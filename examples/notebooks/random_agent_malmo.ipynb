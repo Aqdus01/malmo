{
 "cells": [
  {
   "cell_type": "markdown",
   "metadata": {
    "pycharm": {
     "name": "#%% md\n"
    }
   },
   "source": [
    "# Random Agent in Malmo\n",
    "This guide shows how to setup a single-player Malmo mission. This example may serve as a basis to use Malmo in your RL experiments."
   ]
  },
  {
   "cell_type": "markdown",
   "metadata": {
    "pycharm": {
     "name": "#%% md\n"
    }
   },
   "source": [
    "## Malmo launcher\n",
    "In earlier versions of ```malmoenv``` each Minecraft instance had to be started manually from command line. The launcher handles these processes automatically.\n",
    "Each launcher instance creates a copy of Malmo into the ```/tmp/malmo_<hash>/``` directory and starts it up using a launch script and a given port. The figure below shows this process with the first port set to 9000 and using the ```~/launch_headless.sh``` script. Note that the launcher searches for the launch script in the ```Minecraft/``` subdirectory.\n",
    "\n",
    "![Malmo Launcher](../imgs/malmo_launcher.png)"
   ]
  },
  {
   "cell_type": "code",
   "execution_count": null,
   "metadata": {
    "collapsed": true
   },
   "outputs": [],
   "source": [
    "# imports\n",
    "from pathlib import Path\n",
    "import os\n",
    "\n",
    "# malmoenv imports\n",
    "import malmoenv\n",
    "from malmoenv.utils.launcher import launch_minecraft"
   ]
  },
  {
   "cell_type": "markdown",
   "metadata": {},
   "source": [
    "The next step is to define some constants.\n",
    "\n",
    "The ```MISSION_XML``` is the file defining the current mission. The ```malmoenv``` module communicates with the JAVA version of Minecraft through sockets, so it is important to make sure that the PORT numbers align. This example has been setup to work correctly with both 1 and multiple workers.\n",
    "\n",
    "By default we provide 2 launch scripts:\n",
    "- ```./launchClient_quiet.sh``` - runs Malmo as normal with redirecting the out and error streams to the ```out.txt``` file in the copied Malmo directory in the ```/tmp``` directory.\n",
    "- ```./launchClient_headless.sh``` - runs Malmo without rendering a window. Malmo's output is the same as with ```launchClient_quiet.sh```. To run this ```xvfb``` should be installed on your computer. This script is useful to run Malmo on headless servers."
   ]
  },
  {
   "cell_type": "code",
   "execution_count": null,
   "metadata": {
    "pycharm": {
     "name": "#%%\n"
    }
   },
   "outputs": [],
   "source": [
    "ENV_NAME = \"malmo\"\n",
    "MISSION_XML = os.path.realpath('../../MalmoEnv/missions/mobchase_single_agent.xml')\n",
    "COMMAND_PORT = 8999\n",
    "xml = Path(MISSION_XML).read_text()\n",
    "\n",
    "CHECKPOINT_FREQ = 100      # in terms of number of algorithm iterations\n",
    "LOG_DIR = \"results/\"       # creates a new directory and puts results there\n",
    "\n",
    "NUM_WORKERS = 1\n",
    "NUM_GPUS = 0\n",
    "EPISODES = 10\n",
    "launch_script = \"./launchClient_quiet.sh\""
   ]
  },
  {
   "cell_type": "markdown",
   "metadata": {
    "pycharm": {
     "name": "#%% md\n"
    }
   },
   "source": [
    "Next we create a dictionary called config to store the parameters required for creating Malmo environments such as the mission XML and the COMMAND_PORT. This example assumes to only use a single environment.\n",
    "```env.init``` by default returns a flattened representation of the observed frame, setting ```reshape=True``` keeps it as an image with [width, height, channels] dimensions."
   ]
  },
  {
   "cell_type": "code",
   "execution_count": null,
   "metadata": {
    "pycharm": {
     "name": "#%%\n"
    }
   },
   "outputs": [],
   "source": [
    "config = {\n",
    "    \"xml\": xml,\n",
    "    \"port\": COMMAND_PORT,\n",
    "}\n",
    "def create_env(config):\n",
    "    env = malmoenv.make()\n",
    "    env.init(config[\"xml\"], config[\"port\"], reshape=True)\n",
    "    env.reward_range = (-float('inf'), float('inf'))\n",
    "    return env\n",
    "\n",
    "env = create_env(config)"
   ]
  },
  {
   "cell_type": "markdown",
   "metadata": {
    "pycharm": {
     "name": "#%% md\n"
    }
   },
   "source": [
    "The next step is to start up the Minecraft instances. Note that this step might take a few minutes.\n",
    "In the background each Malmo instance get copied to the ```/tmp/malmo_<hash>/malmo``` directory, where it gets executed (Each Minecraft instance requires its own directory).\n",
    "After copying the instances are started using a the provided ```launch_script```, this is where we can define if we want to run it without rendering a window for example."
   ]
  },
  {
   "cell_type": "code",
   "execution_count": null,
   "metadata": {
    "pycharm": {
     "name": "#%%\n"
    }
   },
   "outputs": [],
   "source": [
    "GAME_INSTANCE_PORTS = [COMMAND_PORT + i for i in range(NUM_WORKERS)]\n",
    "instances = launch_minecraft(GAME_INSTANCE_PORTS, launch_script=launch_script)"
   ]
  },
  {
   "cell_type": "markdown",
   "metadata": {
    "pycharm": {
     "name": "#%% md\n"
    }
   },
   "source": [
    "The final step is to run the random agent in Malmo. Using the default launch script you should see Malmo in a new window on your screen. Resetting the env might take a few seconds depending on the complexity of the mission. In this example we accumulate the rewards and the game steps and print it into the console.\n",
    "\n",
    "At the end we close the environments and kill the JAVA instances in the background."
   ]
  },
  {
   "cell_type": "code",
   "execution_count": null,
   "metadata": {
    "pycharm": {
     "name": "#%%\n"
    }
   },
   "outputs": [],
   "source": [
    "for i in range(EPISODES):\n",
    "    obs = env.reset()\n",
    "    steps = 0\n",
    "    total_rewards = 0\n",
    "    done = False\n",
    "    while not done:\n",
    "        action = env.action_space.sample()\n",
    "        obs, reward, done, info = env.step(action)\n",
    "        steps += 1\n",
    "        total_rewards += reward\n",
    "\n",
    "        if done:\n",
    "            print(f\"Episode finished in {steps} with reward: {total_rewards} \")\n",
    "\n",
    "# close envs\n",
    "env.close()\n",
    "for instance in instances:\n",
    "    instance.communicate()"
   ]
  }
 ],
 "metadata": {
  "kernelspec": {
   "display_name": "Python 3",
   "language": "python",
   "name": "python3"
  },
  "language_info": {
   "codemirror_mode": {
    "name": "ipython",
    "version": 3
   },
   "file_extension": ".py",
   "mimetype": "text/x-python",
   "name": "python",
   "nbconvert_exporter": "python",
   "pygments_lexer": "ipython3",
   "version": "3.6.9"
  }
 },
 "nbformat": 4,
 "nbformat_minor": 1
}