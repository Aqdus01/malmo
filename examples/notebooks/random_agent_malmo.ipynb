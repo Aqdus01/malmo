{
 "cells": [
  {
   "cell_type": "markdown",
   "metadata": {
    "pycharm": {
     "name": "#%% md\n"
    }
   },
   "source": [
    "# Random Player in Malmo\n",
    "This guide shows how to setup a single-player Malmo mission and randomly sample actions at each timestep. This example can serve as a basis to use Malmo in your RL experiments."
   ]
  },
  {
   "cell_type": "markdown",
   "metadata": {
    "pycharm": {
     "name": "#%% md\n"
    }
   },
   "source": [
    "## Malmo launcher\n",
    "Each launcher instance creates a copy of Malmo into the ```/tmp/malmo_<hash>/``` directory and starts it up using a launch script and a given port. The figure below shows this process with the first port set to 9000 and using the ```~/launch_headless.sh``` script.\n",
    "\n",
    "![Malmo Launcher](imgs/malmo_launcher.png)\n",
    "\n",
    "<img src=\"examples/imgs/malmo_launcher.png\">"
   ]
  },
  {
   "cell_type": "code",
   "execution_count": 13,
   "metadata": {
    "collapsed": true
   },
   "outputs": [],
   "source": [
    "# imports\n",
    "from pathlib import Path\n",
    "import os\n",
    "\n",
    "# malmoenv imports\n",
    "import malmoenv\n",
    "from malmoenv.utils.launcher import launch_minecraft"
   ]
  },
  {
   "cell_type": "markdown",
   "metadata": {},
   "source": [
    "The next step is to define some constants.\n",
    "\n",
    "The ```MISSION_XML``` is the file defining the current mission. The malmoenv module communicates with the JAVA version of Minecraft through sockets, so it is important to make sure that the PORT numbers align. This example has been setup to work correctly with both 1 and multiple workers.\n",
    "\n",
    "By default we provide 2 launch scripts:\n",
    "- ```./launchClient_quiet.sh``` - runs Malmo as normal with creating an ```out.txt``` file in the copied Malmo instance in the ```/tmp``` directory with Malmo's output.\n",
    "- ```./launchClient_headless.sh``` - runs Malmo without rendering a window. Malmo's output is the same as with ```launchClient_quiet.sh```. To run this ```xvfb``` should be installed on your computer. This script is useful to run Malmo on headless servers."
   ]
  },
  {
   "cell_type": "code",
   "execution_count": 14,
   "metadata": {
    "pycharm": {
     "name": "#%%\n"
    }
   },
   "outputs": [],
   "source": [
    "ENV_NAME = \"malmo\"\n",
    "MISSION_XML = os.path.realpath('../missions/mobchase_single_agent.xml')\n",
    "COMMAND_PORT = 8999\n",
    "xml = Path(MISSION_XML).read_text()\n",
    "\n",
    "CHECKPOINT_FREQ = 100      # in terms of number of algorithm iterations\n",
    "LOG_DIR = \"results/\"       # creates a new directory and puts results there\n",
    "\n",
    "NUM_WORKERS = 1\n",
    "NUM_GPUS = 0\n",
    "EPISODES = 10\n",
    "launch_script = \"./launchClient_quiet.sh\""
   ]
  },
  {
   "cell_type": "markdown",
   "metadata": {
    "pycharm": {
     "name": "#%% md\n"
    }
   },
   "source": [
    "We created a config to store the parameters required for creating Malmo environments such as the mission XML and the COMMAND_PORT. This example assumes to only use a single environment.\n",
    "```env.init``` by default returns a flattened representation of the observed frame, setting ```reshape=True``` keeps it as an image with [width, height, channels] dimensions."
   ]
  },
  {
   "cell_type": "code",
   "execution_count": 15,
   "metadata": {
    "pycharm": {
     "name": "#%%\n"
    }
   },
   "outputs": [],
   "source": [
    "config = {\n",
    "    \"xml\": xml,\n",
    "    \"port\": COMMAND_PORT,\n",
    "}\n",
    "def create_env(config):\n",
    "    env = malmoenv.make()\n",
    "    env.init(config[\"xml\"], config[\"port\"], reshape=True)\n",
    "    env.reward_range = (-float('inf'), float('inf'))\n",
    "    return env\n",
    "\n",
    "env = create_env(config)"
   ]
  },
  {
   "cell_type": "markdown",
   "metadata": {
    "pycharm": {
     "name": "#%% md\n"
    }
   },
   "source": [
    "The next step is to start up the Minecraft instances. Note that this step might take a few minutes.\n",
    "In the background each Malmo instance get copied to the ```/tmp/malmo_<hash>/malmo``` directory, where it gets executed (Each Minecraft instance requires its own directory).\n",
    "After copying the instances are started using a the provided ```launch_script```, this is where we can define if we want to run it without rendering a window for example."
   ]
  },
  {
   "cell_type": "code",
   "execution_count": 16,
   "metadata": {
    "pycharm": {
     "name": "#%%\n"
    }
   },
   "outputs": [
    {
     "name": "stdout",
     "output_type": "stream",
     "text": [
      "Waiting for 1 instances...\n",
      "Finished waiting for instances\n"
     ]
    }
   ],
   "source": [
    "GAME_INSTANCE_PORTS = [COMMAND_PORT + i for i in range(NUM_WORKERS)]\n",
    "instances = launch_minecraft(GAME_INSTANCE_PORTS, launch_script=launch_script)"
   ]
  },
  {
   "cell_type": "markdown",
   "metadata": {
    "pycharm": {
     "name": "#%% md\n"
    }
   },
   "source": [
    "The final step is to run the random agent in Malmo. At this point you if you chose the ```quiet``` launch script you should see Malmo in a new window. When reset is called the selected mission gets initialized, which might take a few seconds. We collect some statistics, specifically the number of timesteps and the cumulative rewards for each episode that we print into the console.\n",
    "\n",
    "At the end we close the environments and kill the JAVA instances in the background."
   ]
  },
  {
   "cell_type": "code",
   "execution_count": 17,
   "metadata": {
    "pycharm": {
     "name": "#%%\n"
    }
   },
   "outputs": [
    {
     "name": "stdout",
     "output_type": "stream",
     "text": [
      "Episode finished in 102 with reward: -100.0 \n",
      "Episode finished in 101 with reward: -100.0 \n",
      "Episode finished in 101 with reward: -100.0 \n",
      "Episode finished in 101 with reward: -100.0 \n",
      "Episode finished in 101 with reward: -100.0 \n",
      "Episode finished in 101 with reward: -100.0 \n",
      "Episode finished in 101 with reward: -100.0 \n",
      "Episode finished in 101 with reward: -100.0 \n",
      "Episode finished in 101 with reward: -100.0 \n",
      "Episode finished in 97 with reward: -91.0 \n"
     ]
    }
   ],
   "source": [
    "for i in range(EPISODES):\n",
    "    obs = env.reset()\n",
    "    steps = 0\n",
    "    total_rewards = 0\n",
    "    done = False\n",
    "    while not done:\n",
    "        action = env.action_space.sample()\n",
    "        obs, reward, done, info = env.step(action)\n",
    "        steps += 1\n",
    "        total_rewards += reward\n",
    "\n",
    "        if done:\n",
    "            print(f\"Episode finished in {steps} with reward: {total_rewards} \")\n",
    "\n",
    "# close envs\n",
    "env.close()\n",
    "for instance in instances:\n",
    "    instance.communicate()"
   ]
  }
 ],
 "metadata": {
  "kernelspec": {
   "display_name": "Python 3",
   "language": "python",
   "name": "python3"
  },
  "language_info": {
   "codemirror_mode": {
    "name": "ipython",
    "version": 3
   },
   "file_extension": ".py",
   "mimetype": "text/x-python",
   "name": "python",
   "nbconvert_exporter": "python",
   "pygments_lexer": "ipython3",
   "version": "3.6.9"
  }
 },
 "nbformat": 4,
 "nbformat_minor": 1
}