{
 "cells": [
  {
   "cell_type": "markdown",
   "metadata": {
    "pycharm": {
     "name": "#%% md\n"
    }
   },
   "source": [
    "# Multi Agent training using Malmo\n",
    "This example expands on the single agent training example and shows how to use a multi-agent environment using RLlib. Some concepts are explained in more details in the previous examples."
   ]
  },
  {
   "cell_type": "markdown",
   "metadata": {
    "pycharm": {
     "name": "#%% md\n"
    }
   },
   "source": [
    "Before we look at the code, let's go through how the multi-agent differs from the single-agent version.\n",
    "\n",
    "Each agent requires a new Malmo instance. The connection is similar to the single-agent example, the main difference is that the first instance is going to act as a server and the other instances join as clients. The figure below shows a 2 agent example in which ```instance 0``` acts as the server and ```instance 1``` is the client. The agents only communicate with their instances and the instances communicate with each other as the arrows show.\n",
    "Agent 1 sends actions to instance 1 which forwards it to instance 0. Then Minecraft updates and returns the new observation to instance 1 which forwards it to agent 1.\n",
    "\n",
    "![Multi-agent setup](../imgs/malmo_multiagent_wrapper.png \"Multi-agent wrapper\")"
   ]
  },
  {
   "cell_type": "code",
   "execution_count": null,
   "metadata": {},
   "outputs": [],
   "source": [
    "# imports\n",
    "from pathlib import Path\n",
    "import os\n",
    "import gym\n",
    "\n",
    "# malmoenv imports\n",
    "import malmoenv\n",
    "from malmoenv.utils.launcher import launch_minecraft\n",
    "from malmoenv.utils.wrappers import DownsampleObs\n",
    "from malmoenv.turnbasedmultiagentenv import AgentConfig, TurnBasedRllibMultiAgentEnv\n",
    "\n",
    "import ray\n",
    "from ray.tune import register_env"
   ]
  },
  {
   "cell_type": "markdown",
   "metadata": {},
   "source": [
    "The next step is to define some constants. These are mostly the same as for the single-agent example.\n",
    "The main difference here is that ```NUM_WORKERS``` here represents the number of malmo environments and not the number of agents. Care should be taken when assigning resources as using this example uses 2 CPU cores per env."
   ]
  },
  {
   "cell_type": "code",
   "execution_count": null,
   "metadata": {
    "pycharm": {
     "name": "#%%\n"
    }
   },
   "outputs": [],
   "source": [
    "MULTI_AGENT_ENV = \"malmo_multi_agent\"\n",
    "MISSION_XML = os.path.realpath('../../MalmoEnv/missions/mobchase_single_agent.xml')\n",
    "COMMAND_PORT = 8999 # first port's number\n",
    "xml = Path(MISSION_XML).read_text()\n",
    "\n",
    "CHECKPOINT_FREQ = 100      # in terms of number of algorithm iterations\n",
    "LOG_DIR = \"results/\"       # creates a new directory and puts results there\n",
    "\n",
    "NUM_WORKERS = 1            # number of environments to run - each env get multiple agents\n",
    "NUM_GPUS = 0\n",
    "TOTAL_STEPS = int(1e6)\n",
    "launch_script = \"./launchClient_quiet.sh\""
   ]
  },
  {
   "cell_type": "markdown",
   "metadata": {
    "pycharm": {
     "name": "#%% md\n"
    }
   },
   "source": [
    "Next we want to create a function that defines how the environment is generated in RLlib. This is going to be the python client connecting to the malmo instances, so make sure that these PORT numbers match the ports used later to create the Minecraft instances.\n",
    "When using RLlib each worker has an index accessible by calling ```config.worker_index```, using this variable we can easily set the correct ports for each env.\n",
    "If we would like to use wrappers the ```env_factory``` function is a good place to add them, see the ```DownsampleObs``` wrapper added in this example.\n",
    "To use RLlib we have created 2 functions:\n",
    "- ```env_factory```: Starts up a Malmo instance as we did with the ```create_env``` function in the Single agent example\n",
    "- ```create_multi_agent_env```: Assigns the correct roles to the agents and wrap the environments using the TurnBasedRllibMultiAgentEnv.\n",
    "\n",
    "Finally we have to register the env generator function to make it visible to RLlib."
   ]
  },
  {
   "cell_type": "code",
   "execution_count": null,
   "metadata": {
    "pycharm": {
     "name": "#%%\n"
    }
   },
   "outputs": [],
   "source": [
    "def env_factory(agent_id, xml, role, host_address, host_port, command_address, command_port):\n",
    "    env = malmoenv.make()\n",
    "    env.init(xml, host_port,\n",
    "             server=host_address,\n",
    "             server2=command_address,\n",
    "             port2=command_port,\n",
    "             role=role,\n",
    "             exp_uid=\"multiagent\",\n",
    "             reshape=True\n",
    "             )\n",
    "    env = DownsampleObs(env, shape=(84, 84))\n",
    "\n",
    "    return env\n",
    "\n",
    "def create_multi_agent_env(config):\n",
    "    port = COMMAND_PORT + (config.worker_index * 2)\n",
    "    agent_config = [\n",
    "        AgentConfig(id=f\"agent1\", address=port),\n",
    "        AgentConfig(id=f\"agent2\", address=port + 1),\n",
    "    ]\n",
    "    env = TurnBasedRllibMultiAgentEnv(xml, agent_config,\n",
    "                                      env_factory=env_factory,)\n",
    "    return env\n",
    "\n",
    "register_env(MULTI_AGENT_ENV, create_multi_agent_env)"
   ]
  },
  {
   "cell_type": "markdown",
   "metadata": {
    "pycharm": {
     "name": "#%% md\n"
    }
   },
   "source": [
    "The next step is to start up the Minecraft instances. Note that this step might take a few minutes.\n",
    "In the background each Malmo instance get copied to the ```/tmp/malmo_<hash>/malmo``` directory, where it gets executed (Each Minecraft instance requires its own directory).\n",
    "After copying the instances are started using a the provided ```launch_script```, this is where we can define if we want to run it without rendering a window for example.\n",
    "By default it uses the ```launchClient_quiet.sh``` script which renders each window, so after executing the next cell you should see 2 windows rendered on your screen. It might take a few minutes depending on your hardware."
   ]
  },
  {
   "cell_type": "code",
   "execution_count": null,
   "metadata": {
    "pycharm": {
     "name": "#%%\n"
    }
   },
   "outputs": [],
   "source": [
    "GAME_INSTANCE_PORTS = [COMMAND_PORT + 1 + i for i in range(NUM_WORKERS)]\n",
    "instances = launch_minecraft(GAME_INSTANCE_PORTS, launch_script=launch_script)"
   ]
  },
  {
   "cell_type": "markdown",
   "metadata": {
    "pycharm": {
     "name": "#%% md\n"
    }
   },
   "source": [
    "The multi-agent setup requires an extra argument: ```multiagent```, which defines how to handle the separate policies.\n",
    "For more information on multi-agent environments read the \"MultiAgentEnv\" section in the [RLlib documentation](https://docs.ray.io/en/master/rllib-env.html)"
   ]
  },
  {
   "cell_type": "code",
   "execution_count": null,
   "metadata": {
    "pycharm": {
     "name": "#%%\n"
    }
   },
   "outputs": [],
   "source": [
    "ray.tune.run(\n",
    "    \"PPO\",\n",
    "    config={\n",
    "        \"env\": MULTI_AGENT_ENV,\n",
    "        \"num_workers\": NUM_WORKERS,\n",
    "        \"num_gpus\": NUM_GPUS,\n",
    "        \"multiagent\": {\n",
    "            \"policies\": { \"shared_policy\": (\n",
    "                None,\n",
    "                gym.spaces.Box(0, 255, shape=(84, 84, 3)),\n",
    "                gym.spaces.Discrete(5),\n",
    "                {}\n",
    "            )},\n",
    "            \"policy_mapping_fn\": (lambda agent_id: \"shared_policy\")\n",
    "        }\n",
    "    },\n",
    "    stop={\"timesteps_total\": TOTAL_STEPS},\n",
    "    checkpoint_at_end=True,\n",
    "    checkpoint_freq=CHECKPOINT_FREQ,\n",
    "    local_dir=LOG_DIR\n",
    ")"
   ]
  }
 ],
 "metadata": {
  "kernelspec": {
   "display_name": "Python 3",
   "language": "python",
   "name": "python3"
  },
  "language_info": {
   "codemirror_mode": {
    "name": "ipython",
    "version": 3
   },
   "file_extension": ".py",
   "mimetype": "text/x-python",
   "name": "python",
   "nbconvert_exporter": "python",
   "pygments_lexer": "ipython3",
   "version": "3.6.9"
  }
 },
 "nbformat": 4,
 "nbformat_minor": 1
}